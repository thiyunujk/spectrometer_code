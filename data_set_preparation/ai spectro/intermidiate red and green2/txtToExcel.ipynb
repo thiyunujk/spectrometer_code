{
 "cells": [
  {
   "cell_type": "code",
   "execution_count": 1,
   "metadata": {},
   "outputs": [
    {
     "name": "stdout",
     "output_type": "stream",
     "text": [
      "Requirement already satisfied: pandas in c:\\users\\jk\\desktop\\pigui\\spectro\\lib\\site-packages (2.1.0)\n",
      "Requirement already satisfied: numpy>=1.23.2 in c:\\users\\jk\\desktop\\pigui\\spectro\\lib\\site-packages (from pandas) (1.25.2)\n",
      "Requirement already satisfied: python-dateutil>=2.8.2 in c:\\users\\jk\\desktop\\pigui\\spectro\\lib\\site-packages (from pandas) (2.8.2)\n",
      "Requirement already satisfied: pytz>=2020.1 in c:\\users\\jk\\desktop\\pigui\\spectro\\lib\\site-packages (from pandas) (2023.3.post1)\n",
      "Requirement already satisfied: tzdata>=2022.1 in c:\\users\\jk\\desktop\\pigui\\spectro\\lib\\site-packages (from pandas) (2023.3)\n",
      "Requirement already satisfied: six>=1.5 in c:\\users\\jk\\desktop\\pigui\\spectro\\lib\\site-packages (from python-dateutil>=2.8.2->pandas) (1.16.0)\n",
      "Note: you may need to restart the kernel to use updated packages.\n"
     ]
    },
    {
     "name": "stderr",
     "output_type": "stream",
     "text": [
      "\n",
      "[notice] A new release of pip is available: 23.2.1 -> 23.3.1\n",
      "[notice] To update, run: python.exe -m pip install --upgrade pip\n"
     ]
    }
   ],
   "source": [
    "pip install pandas"
   ]
  },
  {
   "cell_type": "code",
   "execution_count": 3,
   "metadata": {},
   "outputs": [
    {
     "name": "stdout",
     "output_type": "stream",
     "text": [
      "3648\n",
      "3648\n",
      "3648\n",
      "3648\n",
      "3648\n",
      "3648\n"
     ]
    }
   ],
   "source": [
    "import os\n",
    "import pandas as pd\n",
    "\n",
    "def process_text_file(file_path):\n",
    "    # Read the text file\n",
    "    with open(file_path, 'r') as file:\n",
    "        lines = file.readlines()\n",
    "\n",
    "    # Take the total count of all rows in the file\n",
    "    total_rows = len(lines)\n",
    "    print(total_rows)\n",
    "\n",
    "    # Remove lines after 2720 row\n",
    "    lines = lines[:2720]\n",
    "\n",
    "    # Take the rest of the rows and remove the first 1103 rows\n",
    "    processed_lines = lines[1103:]\n",
    "\n",
    "    # Create a DataFrame with two columns\n",
    "    df = pd.DataFrame([line.split() for line in processed_lines], columns=['features', 'class'])\n",
    "\n",
    "    # Add a new column 'class' with the value \"raw\"\n",
    "    df['class'] = 'raw'\n",
    "\n",
    "    # Convert the DataFrame to an Excel file\n",
    "    excel_file_path = file_path.replace('.txt', '.xlsx')\n",
    "    df.to_excel(excel_file_path, index=False)\n",
    "\n",
    "if __name__ == \"__main__\":\n",
    "    # Replace 'input_folder' with the path to your folder containing the text files\n",
    "    input_folder = r'C:\\Users\\jk\\Desktop\\piGUI\\spectrometer_code\\data_set_preparation\\ai spectro\\intermidiate red and green2'\n",
    "    # Process each text file in the folder\n",
    "    for filename in os.listdir(input_folder):\n",
    "        if filename.endswith('.txt'):\n",
    "            file_path = os.path.join(input_folder, filename)\n",
    "            process_text_file(file_path)\n"
   ]
  }
 ],
 "metadata": {
  "kernelspec": {
   "display_name": "spectro",
   "language": "python",
   "name": "python3"
  },
  "language_info": {
   "codemirror_mode": {
    "name": "ipython",
    "version": 3
   },
   "file_extension": ".py",
   "mimetype": "text/x-python",
   "name": "python",
   "nbconvert_exporter": "python",
   "pygments_lexer": "ipython3",
   "version": "3.11.5"
  }
 },
 "nbformat": 4,
 "nbformat_minor": 2
}
