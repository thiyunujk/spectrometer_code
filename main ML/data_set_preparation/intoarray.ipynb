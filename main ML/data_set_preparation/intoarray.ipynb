{
 "cells": [
  {
   "cell_type": "code",
   "execution_count": 1,
   "metadata": {},
   "outputs": [
    {
     "ename": "FileNotFoundError",
     "evalue": "[Errno 2] No such file or directory: 'data_set_preparation\\\\ai spectro\\\\raw sample 1\\\\Reflection_20-23-44-838.xlsx'",
     "output_type": "error",
     "traceback": [
      "\u001b[1;31m---------------------------------------------------------------------------\u001b[0m",
      "\u001b[1;31mFileNotFoundError\u001b[0m                         Traceback (most recent call last)",
      "\u001b[1;32mc:\\Users\\jk\\Desktop\\piGUI\\spectrometer_code\\data_set_preparation\\intoarray.ipynb\\ Cell 1\u001b[0m line \u001b[0;36m3\n\u001b[0;32m      <a href='vscode-notebook-cell:/c%3A/Users/jk/Desktop/piGUI/spectrometer_code/data_set_preparation/intoarray.ipynb/#W0sZmlsZQ%3D%3D?line=0'>1</a>\u001b[0m \u001b[39m# Read the data from the file\u001b[39;00m\n\u001b[0;32m      <a href='vscode-notebook-cell:/c%3A/Users/jk/Desktop/piGUI/spectrometer_code/data_set_preparation/intoarray.ipynb/#W0sZmlsZQ%3D%3D?line=1'>2</a>\u001b[0m file_path \u001b[39m=\u001b[39m \u001b[39mr\u001b[39m\u001b[39m\"\u001b[39m\u001b[39mdata_set_preparation\u001b[39m\u001b[39m\\\u001b[39m\u001b[39mai spectro\u001b[39m\u001b[39m\\\u001b[39m\u001b[39mraw sample 1\u001b[39m\u001b[39m\\\u001b[39m\u001b[39mReflection_20-23-44-838.xlsx\u001b[39m\u001b[39m\"\u001b[39m  \u001b[39m# Replace with the actual path to your file\u001b[39;00m\n\u001b[1;32m----> <a href='vscode-notebook-cell:/c%3A/Users/jk/Desktop/piGUI/spectrometer_code/data_set_preparation/intoarray.ipynb/#W0sZmlsZQ%3D%3D?line=2'>3</a>\u001b[0m \u001b[39mwith\u001b[39;00m \u001b[39mopen\u001b[39;49m(file_path, \u001b[39m'\u001b[39;49m\u001b[39mr\u001b[39;49m\u001b[39m'\u001b[39;49m) \u001b[39mas\u001b[39;00m file:\n\u001b[0;32m      <a href='vscode-notebook-cell:/c%3A/Users/jk/Desktop/piGUI/spectrometer_code/data_set_preparation/intoarray.ipynb/#W0sZmlsZQ%3D%3D?line=3'>4</a>\u001b[0m     data \u001b[39m=\u001b[39m file\u001b[39m.\u001b[39mreadlines()\n\u001b[0;32m      <a href='vscode-notebook-cell:/c%3A/Users/jk/Desktop/piGUI/spectrometer_code/data_set_preparation/intoarray.ipynb/#W0sZmlsZQ%3D%3D?line=5'>6</a>\u001b[0m \u001b[39m# Extract the second column into an array\u001b[39;00m\n",
      "File \u001b[1;32mc:\\Users\\jk\\Desktop\\piGUI\\spectro\\Lib\\site-packages\\IPython\\core\\interactiveshell.py:310\u001b[0m, in \u001b[0;36m_modified_open\u001b[1;34m(file, *args, **kwargs)\u001b[0m\n\u001b[0;32m    303\u001b[0m \u001b[39mif\u001b[39;00m file \u001b[39min\u001b[39;00m {\u001b[39m0\u001b[39m, \u001b[39m1\u001b[39m, \u001b[39m2\u001b[39m}:\n\u001b[0;32m    304\u001b[0m     \u001b[39mraise\u001b[39;00m \u001b[39mValueError\u001b[39;00m(\n\u001b[0;32m    305\u001b[0m         \u001b[39mf\u001b[39m\u001b[39m\"\u001b[39m\u001b[39mIPython won\u001b[39m\u001b[39m'\u001b[39m\u001b[39mt let you open fd=\u001b[39m\u001b[39m{\u001b[39;00mfile\u001b[39m}\u001b[39;00m\u001b[39m by default \u001b[39m\u001b[39m\"\u001b[39m\n\u001b[0;32m    306\u001b[0m         \u001b[39m\"\u001b[39m\u001b[39mas it is likely to crash IPython. If you know what you are doing, \u001b[39m\u001b[39m\"\u001b[39m\n\u001b[0;32m    307\u001b[0m         \u001b[39m\"\u001b[39m\u001b[39myou can use builtins\u001b[39m\u001b[39m'\u001b[39m\u001b[39m open.\u001b[39m\u001b[39m\"\u001b[39m\n\u001b[0;32m    308\u001b[0m     )\n\u001b[1;32m--> 310\u001b[0m \u001b[39mreturn\u001b[39;00m io_open(file, \u001b[39m*\u001b[39;49margs, \u001b[39m*\u001b[39;49m\u001b[39m*\u001b[39;49mkwargs)\n",
      "\u001b[1;31mFileNotFoundError\u001b[0m: [Errno 2] No such file or directory: 'data_set_preparation\\\\ai spectro\\\\raw sample 1\\\\Reflection_20-23-44-838.xlsx'"
     ]
    }
   ],
   "source": [
    "# Read the data from the file\n",
    "file_path = r\"data_set_preparation\\ai spectro\\raw sample 1\\Reflection_20-23-44-838.xlsx\"  # Replace with the actual path to your file\n",
    "with open(file_path, 'r') as file:\n",
    "    data = file.readlines()\n",
    "\n",
    "# Extract the second column into an array\n",
    "second_column = [float(line.split()[1]) for line in data]\n",
    "\n",
    "# Print the array\n",
    "print(second_column)\n"
   ]
  }
 ],
 "metadata": {
  "kernelspec": {
   "display_name": "spectro",
   "language": "python",
   "name": "python3"
  },
  "language_info": {
   "codemirror_mode": {
    "name": "ipython",
    "version": 3
   },
   "file_extension": ".py",
   "mimetype": "text/x-python",
   "name": "python",
   "nbconvert_exporter": "python",
   "pygments_lexer": "ipython3",
   "version": "3.11.5"
  }
 },
 "nbformat": 4,
 "nbformat_minor": 2
}
