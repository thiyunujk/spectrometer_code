{
 "cells": [
  {
   "cell_type": "code",
   "execution_count": 3,
   "metadata": {},
   "outputs": [
    {
     "name": "stdout",
     "output_type": "stream",
     "text": [
      "<bound method NDFrame.head of                                      features  Label\n",
      "0   [101,112,125,155,164,170,201,235,288,310]      1\n",
      "1   [101,112,125,155,164,170,201,235,288,310]      1\n",
      "2   [101,112,125,155,164,170,201,235,288,310]      1\n",
      "3   [101,112,125,155,164,170,201,235,288,310]      1\n",
      "4   [101,112,125,155,164,170,201,235,288,310]      1\n",
      "5   [101,112,125,155,164,170,201,235,288,310]      1\n",
      "6   [101,112,125,155,164,170,201,235,288,310]      1\n",
      "7   [101,112,125,155,164,170,201,235,288,310]      1\n",
      "8   [101,112,125,155,164,170,201,235,288,310]      1\n",
      "9   [101,112,125,155,164,170,201,235,288,310]      1\n",
      "10  [562,617,695,710,744,799,812,855,864,897]      0\n",
      "11  [562,617,695,710,744,799,812,855,864,897]      0\n",
      "12  [562,617,695,710,744,799,812,855,864,897]      0\n",
      "13  [562,617,695,710,744,799,812,855,864,897]      0\n",
      "14  [562,617,695,710,744,799,812,855,864,897]      0\n",
      "15  [562,617,695,710,744,799,812,855,864,897]      0\n",
      "16  [562,617,695,710,744,799,812,855,864,897]      0\n",
      "17  [562,617,695,710,744,799,812,855,864,897]      0\n",
      "18  [562,617,695,710,744,799,812,855,864,897]      0\n",
      "19  [562,617,695,710,744,799,812,855,864,897]      0>\n"
     ]
    }
   ],
   "source": [
    "import pandas as pd\n",
    "from matplotlib import pyplot as plt\n",
    "import ast\n",
    "df = pd.read_excel(\"data.xlsx\")\n",
    "print(df.head)"
   ]
  },
  {
   "cell_type": "code",
   "execution_count": 4,
   "metadata": {},
   "outputs": [
    {
     "name": "stdout",
     "output_type": "stream",
     "text": [
      "Binary Classification Accuracy: 1.0\n"
     ]
    }
   ],
   "source": [
    "import ast\n",
    "import pandas as pd\n",
    "from sklearn.model_selection import train_test_split\n",
    "from sklearn.ensemble import RandomForestClassifier\n",
    "from sklearn.metrics import accuracy_score\n",
    "\n",
    "# Load your Excel file into a pandas DataFrame\n",
    "df = pd.read_excel(\"data.xlsx\")\n",
    "\n",
    "# Assuming the features column is the first column, adjust the column name if necessary\n",
    "features_column_name = df.columns[0]\n",
    "\n",
    "# Function to convert the features column\n",
    "def convert_features(features):\n",
    "    try:\n",
    "        # Try to evaluate the string representation as a list of integers\n",
    "        features_list = ast.literal_eval(features)\n",
    "        if all(isinstance(x, (int, float)) for x in features_list):\n",
    "            return features_list\n",
    "        else:\n",
    "            # If not all elements are integers, return the original value\n",
    "            return features\n",
    "    except (SyntaxError, ValueError):\n",
    "        # If evaluation fails, return the original value\n",
    "        return features\n",
    "\n",
    "# Apply the conversion function to the features column\n",
    "df[features_column_name] = df[features_column_name].apply(convert_features)\n",
    "\n",
    "# Assuming 'Label' is your binary target variable\n",
    "label_column_name = 'Label'\n",
    "X = df[features_column_name].apply(lambda x: x[0] if isinstance(x, list) else x)\n",
    "y = df[label_column_name]\n",
    "\n",
    "# Reshape X into a 2D array\n",
    "X = X.apply(lambda x: [x]).tolist()\n",
    "\n",
    "# Split the data into training and testing sets\n",
    "X_train, X_test, y_train, y_test = train_test_split(X, y, test_size=0.2, random_state=42)\n",
    "\n",
    "# Initialize and train the Random Forest Classifier for binary classification\n",
    "model = RandomForestClassifier()\n",
    "model.fit(X_train, y_train)\n",
    "\n",
    "# Make predictions on the test set\n",
    "y_pred = model.predict(X_test)\n",
    "\n",
    "# Evaluate the model\n",
    "accuracy = accuracy_score(y_test, y_pred)\n",
    "print(f\"Binary Classification Accuracy: {accuracy}\")\n"
   ]
  }
 ],
 "metadata": {
  "kernelspec": {
   "display_name": "spectro",
   "language": "python",
   "name": "python3"
  },
  "language_info": {
   "codemirror_mode": {
    "name": "ipython",
    "version": 3
   },
   "file_extension": ".py",
   "mimetype": "text/x-python",
   "name": "python",
   "nbconvert_exporter": "python",
   "pygments_lexer": "ipython3",
   "version": "3.11.5"
  }
 },
 "nbformat": 4,
 "nbformat_minor": 2
}
